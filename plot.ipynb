{
 "cells": [
  {
   "cell_type": "code",
   "execution_count": null,
   "id": "b039784d",
   "metadata": {
    "vscode": {
     "languageId": "plaintext"
    }
   },
   "outputs": [],
   "source": [
    "import pandas as pd\n",
    "import matplotlib.pyplot as plt\n",
    "\n",
    "# อ่าน CSV ที่เก็บมา\n",
    "df = pd.read_csv(\"gimbal_response.csv\")\n",
    "\n",
    "# เตรียมเวลา\n",
    "t = df[\"t\"]\n",
    "\n",
    "# ================== Plot 1: Errors ==================\n",
    "plt.figure()\n",
    "plt.plot(t, df[\"err_total\"], label=\"err_total\")\n",
    "plt.plot(t, df[\"err_x\"], label=\"err_x\")\n",
    "plt.plot(t, df[\"err_y\"], label=\"err_y\")\n",
    "plt.xlabel(\"Time (s)\")\n",
    "plt.ylabel(\"Pixel Error\")\n",
    "plt.title(\"Errors vs Time\")\n",
    "plt.legend()\n",
    "plt.grid(True)\n",
    "\n",
    "# ================== Plot 2: Accumulated Errors ==================\n",
    "plt.figure()\n",
    "plt.plot(t, df[\"accumulate_err_total\"], label=\"acc_err_total\")\n",
    "plt.plot(t, df[\"accumulate_err_x\"], label=\"acc_err_x\")\n",
    "plt.plot(t, df[\"accumulate_err_y\"], label=\"acc_err_y\")\n",
    "plt.xlabel(\"Time (s)\")\n",
    "plt.ylabel(\"Accumulated Error\")\n",
    "plt.title(\"Accumulated Errors vs Time\")\n",
    "plt.legend()\n",
    "plt.grid(True)\n",
    "\n",
    "# ================== Plot 3: Controller Outputs ==================\n",
    "plt.figure()\n",
    "plt.plot(t, df[\"controller_output_x\"], label=\"controller_output_x (yaw)\")\n",
    "plt.plot(t, df[\"controller_output_y\"], label=\"controller_output_y (pitch)\")\n",
    "plt.xlabel(\"Time (s)\")\n",
    "plt.ylabel(\"Controller Output (deg/s)\")\n",
    "plt.title(\"Controller Outputs vs Time\")\n",
    "plt.legend()\n",
    "plt.grid(True)\n",
    "\n",
    "# ================== Plot 4: Gimbal Angles ==================\n",
    "plt.figure()\n",
    "plt.plot(t, df[\"gimbal_pitch_angle\"], label=\"pitch_angle\")\n",
    "plt.plot(t, df[\"gimbal_yaw_angle\"], label=\"yaw_angle\")\n",
    "plt.xlabel(\"Time (s)\")\n",
    "plt.ylabel(\"Gimbal Angle (deg)\")\n",
    "plt.title(\"Gimbal Angles vs Time\")\n",
    "plt.legend()\n",
    "plt.grid(True)\n",
    "\n",
    "plt.show()\n"
   ]
  }
 ],
 "metadata": {
  "language_info": {
   "name": "python"
  }
 },
 "nbformat": 4,
 "nbformat_minor": 5
}
